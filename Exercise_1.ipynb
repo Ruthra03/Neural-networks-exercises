{
  "nbformat": 4,
  "nbformat_minor": 0,
  "metadata": {
    "colab": {
      "provenance": [],
      "authorship_tag": "ABX9TyMLTFBFy0jdswBsWw+mNA66",
      "include_colab_link": true
    },
    "kernelspec": {
      "name": "python3",
      "display_name": "Python 3"
    },
    "language_info": {
      "name": "python"
    }
  },
  "cells": [
    {
      "cell_type": "markdown",
      "metadata": {
        "id": "view-in-github",
        "colab_type": "text"
      },
      "source": [
        "<a href=\"https://colab.research.google.com/github/Ruthra03/Neural-networks-exercises/blob/main/Exercise_1.ipynb\" target=\"_parent\"><img src=\"https://colab.research.google.com/assets/colab-badge.svg\" alt=\"Open In Colab\"/></a>"
      ]
    },
    {
      "cell_type": "markdown",
      "source": [
        "##Question\n",
        "Sigmoid neurons simulating perceptrons, part I\n",
        "Suppose we take all the weights and biases in a network of perceptrons, and multiply them by a positive constant, c>0\n",
        ". Show that the behaviour of the network doesn't change."
      ],
      "metadata": {
        "id": "Drx3jku7e8ku"
      }
    },
    {
      "cell_type": "code",
      "execution_count": null,
      "metadata": {
        "id": "niasC2gtXEyU"
      },
      "outputs": [],
      "source": [
        "class Perceptron:\n",
        "    def __init__(self, weights, bias):\n",
        "        self.weights = weights\n",
        "        self.bias = bias\n",
        "\n",
        "    def activate(self, inputs):\n",
        "        total = sum(w * i for w, i in zip(self.weights, inputs)) + self.bias\n",
        "        return 1 if total > 0 else 0\n"
      ]
    },
    {
      "cell_type": "code",
      "source": [
        "class SimpleNN:\n",
        "    def __init__(self, perceptrons):\n",
        "        self.perceptrons = perceptrons\n",
        "\n",
        "    def predict(self, inputs):\n",
        "        return [p.activate(inputs) for p in self.perceptrons]\n"
      ],
      "metadata": {
        "id": "qdG_ZofVdHEq"
      },
      "execution_count": null,
      "outputs": []
    },
    {
      "cell_type": "code",
      "source": [
        "# Define the original weights and biases\n",
        "weights1 = [1, -1]\n",
        "bias1 = -0.5\n",
        "\n",
        "weights2 = [-1, 1]\n",
        "bias2 = 0.5\n",
        "\n",
        "# Create perceptrons\n",
        "p1 = Perceptron(weights1, bias1)\n",
        "p2 = Perceptron(weights2, bias2)\n",
        "\n",
        "# Create a neural network\n",
        "nn = SimpleNN([p1, p2])\n",
        "\n",
        "# Test inputs\n",
        "inputs = [[0, 0], [0, 1], [1, 0], [1, 1]]\n",
        "\n",
        "# Predict using the original network\n",
        "original_outputs = [nn.predict(input_set) for input_set in inputs]\n",
        "\n",
        "# Scaling factor\n",
        "c = 2\n",
        "\n",
        "# Scale weights and biases\n",
        "p1_scaled = Perceptron([c * w for w in weights1], c * bias1)\n",
        "p2_scaled = Perceptron([c * w for w in weights2], c * bias2)\n",
        "\n",
        "# Create a scaled neural network\n",
        "nn_scaled = SimpleNN([p1_scaled, p2_scaled])\n",
        "\n",
        "# Predict using the scaled network\n",
        "scaled_outputs = [nn_scaled.predict(input_set) for input_set in inputs]\n",
        "\n",
        "# Print the results\n",
        "print(\"Original outputs:\")\n",
        "for input_set, output in zip(inputs, original_outputs):\n",
        "    print(f\"Input: {input_set}, Output: {output}\")\n",
        "\n",
        "print(\"\\nScaled outputs:\")\n",
        "for input_set, output in zip(inputs, scaled_outputs):\n",
        "    print(f\"Input: {input_set}, Output: {output}\")\n",
        "\n",
        "# Verify if the outputs are the same\n",
        "assert original_outputs == scaled_outputs, \"The outputs should be the same\"\n",
        "print(\"\\nThe outputs are identical, proving the invariance.\")\n"
      ],
      "metadata": {
        "colab": {
          "base_uri": "https://localhost:8080/"
        },
        "id": "gNqPxQ49dIo0",
        "outputId": "610d1e13-2c10-4f6f-e716-01b1e3a0e15c"
      },
      "execution_count": null,
      "outputs": [
        {
          "output_type": "stream",
          "name": "stdout",
          "text": [
            "Original outputs:\n",
            "Input: [0, 0], Output: [0, 1]\n",
            "Input: [0, 1], Output: [0, 1]\n",
            "Input: [1, 0], Output: [1, 0]\n",
            "Input: [1, 1], Output: [0, 1]\n",
            "\n",
            "Scaled outputs:\n",
            "Input: [0, 0], Output: [0, 1]\n",
            "Input: [0, 1], Output: [0, 1]\n",
            "Input: [1, 0], Output: [1, 0]\n",
            "Input: [1, 1], Output: [0, 1]\n",
            "\n",
            "The outputs are identical, proving the invariance.\n"
          ]
        }
      ]
    },
    {
      "cell_type": "code",
      "source": [],
      "metadata": {
        "id": "ltidUBRudiJB"
      },
      "execution_count": null,
      "outputs": []
    }
  ]
}