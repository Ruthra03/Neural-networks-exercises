{
  "nbformat": 4,
  "nbformat_minor": 0,
  "metadata": {
    "colab": {
      "provenance": [],
      "authorship_tag": "ABX9TyN944gWyaeLuyg+0xqTZt/U",
      "include_colab_link": true
    },
    "kernelspec": {
      "name": "python3",
      "display_name": "Python 3"
    },
    "language_info": {
      "name": "python"
    }
  },
  "cells": [
    {
      "cell_type": "markdown",
      "metadata": {
        "id": "view-in-github",
        "colab_type": "text"
      },
      "source": [
        "<a href=\"https://colab.research.google.com/github/Ruthra03/Neural-networks-exercises/blob/main/Exercise_2.ipynb\" target=\"_parent\"><img src=\"https://colab.research.google.com/assets/colab-badge.svg\" alt=\"Open In Colab\"/></a>"
      ]
    },
    {
      "cell_type": "markdown",
      "source": [
        "##Question\n",
        "Sigmoid neurons simulating perceptrons, part II\n",
        "Suppose we have the same setup as the last problem - a network of perceptrons. Suppose also that the overall input to the network of perceptrons has been chosen. We won't need the actual input value, we just need the input to have been fixed. Suppose the weights and biases are such that w⋅x+b≠0\n",
        " for the input x\n",
        " to any particular perceptron in the network. Now replace all the perceptrons in the network by sigmoid neurons, and multiply the weights and biases by a positive constant c>0\n",
        ". Show that in the limit as c→∞\n",
        " the behaviour of this network of sigmoid neurons is exactly the same as the network of perceptrons. How can this fail when w⋅x+b=0\n",
        " for one of the perceptrons?"
      ],
      "metadata": {
        "id": "mSFHietNvYeB"
      }
    },
    {
      "cell_type": "code",
      "source": [
        "import math\n",
        "from decimal import Decimal, getcontext\n",
        "\n",
        "# Increase the precision of decimal calculations\n",
        "getcontext().prec = 50\n",
        "\n",
        "# Define the Perceptron class\n",
        "class Perceptron:\n",
        "    def __init__(self, weights, bias):\n",
        "        self.weights = weights\n",
        "        self.bias = bias\n",
        "\n",
        "    def activate(self, inputs):\n",
        "        total = sum(w * i for w, i in zip(self.weights, inputs)) + self.bias\n",
        "        return 1 if total > 0 else 0\n",
        "\n",
        "# Define the SigmoidNeuron class with a stable sigmoid function\n",
        "class SigmoidNeuron:\n",
        "    def __init__(self, weights, bias):\n",
        "        self.weights = weights\n",
        "        self.bias = bias\n",
        "\n",
        "    def activate(self, inputs):\n",
        "        total = sum(w * i for w, i in zip(self.weights, inputs)) + self.bias\n",
        "        if total >= 0:\n",
        "            return float(1 / (1 + Decimal(math.exp(-total))))\n",
        "        else:\n",
        "            return float(Decimal(math.exp(total)) / (1 + Decimal(math.exp(total))))\n"
      ],
      "metadata": {
        "id": "Mu33oUmrmvrp"
      },
      "execution_count": 15,
      "outputs": []
    },
    {
      "cell_type": "code",
      "source": [
        "# Function to test the neurons with various values of c\n",
        "def test_neurons(weights, bias, inputs, c_values):\n",
        "    # Initialize perceptron and sigmoid neuron with original weights and bias\n",
        "    perceptron = Perceptron(weights, bias)\n",
        "    sigmoid_neuron = SigmoidNeuron(weights, bias)\n",
        "\n",
        "    print(\"Inputs:\", inputs)\n",
        "    print(\"Original Perceptron output:\", perceptron.activate(inputs))\n",
        "    print(\"Original Sigmoid Neuron output:\", sigmoid_neuron.activate(inputs))\n",
        "\n",
        "    for c in c_values:\n",
        "        # Scale the weights and bias\n",
        "        scaled_weights = [c * w for w in weights]\n",
        "        scaled_bias = c * bias\n",
        "\n",
        "        # Create scaled neurons\n",
        "        scaled_perceptron = Perceptron(scaled_weights, scaled_bias)\n",
        "        scaled_sigmoid_neuron = SigmoidNeuron(scaled_weights, scaled_bias)\n",
        "\n",
        "        # Get outputs\n",
        "        perceptron_output = scaled_perceptron.activate(inputs)\n",
        "        sigmoid_output = scaled_sigmoid_neuron.activate(inputs)\n",
        "\n",
        "        print(f\"\\nWith scaling factor c = {c}:\")\n",
        "        print(\"Scaled Perceptron output:\", perceptron_output)\n",
        "        print(\"Scaled Sigmoid Neuron output:\", sigmoid_output)\n",
        "\n",
        "# Example weights, bias, inputs, and scaling factors\n",
        "weights = [1, -1]\n",
        "bias = -0.5\n",
        "inputs = [1, 1]\n",
        "c_values = [1, 10, 100, 1000, 10000,100000]\n"
      ],
      "metadata": {
        "id": "OWJoubNFm7AP"
      },
      "execution_count": 16,
      "outputs": []
    },
    {
      "cell_type": "code",
      "source": [
        "# Run the test\n",
        "test_neurons(weights, bias, inputs, c_values)"
      ],
      "metadata": {
        "colab": {
          "base_uri": "https://localhost:8080/"
        },
        "id": "etbcePWmm_LX",
        "outputId": "a2701a2b-c6a4-4a18-ce2e-d882c06bbd28"
      },
      "execution_count": 17,
      "outputs": [
        {
          "output_type": "stream",
          "name": "stdout",
          "text": [
            "Inputs: [1, 1]\n",
            "Original Perceptron output: 0\n",
            "Original Sigmoid Neuron output: 0.37754066879814546\n",
            "\n",
            "With scaling factor c = 1:\n",
            "Scaled Perceptron output: 0\n",
            "Scaled Sigmoid Neuron output: 0.37754066879814546\n",
            "\n",
            "With scaling factor c = 10:\n",
            "Scaled Perceptron output: 0\n",
            "Scaled Sigmoid Neuron output: 0.0066928509242848554\n",
            "\n",
            "With scaling factor c = 100:\n",
            "Scaled Perceptron output: 0\n",
            "Scaled Sigmoid Neuron output: 1.9287498479639178e-22\n",
            "\n",
            "With scaling factor c = 1000:\n",
            "Scaled Perceptron output: 0\n",
            "Scaled Sigmoid Neuron output: 7.124576406741286e-218\n",
            "\n",
            "With scaling factor c = 10000:\n",
            "Scaled Perceptron output: 0\n",
            "Scaled Sigmoid Neuron output: 0.0\n",
            "\n",
            "With scaling factor c = 100000:\n",
            "Scaled Perceptron output: 0\n",
            "Scaled Sigmoid Neuron output: 0.0\n"
          ]
        }
      ]
    },
    {
      "cell_type": "markdown",
      "source": [
        "###**How can this fail when w⋅x+b=0 for one of the perceptrons?**"
      ],
      "metadata": {
        "id": "reHXXsSon7wN"
      }
    },
    {
      "cell_type": "markdown",
      "source": [
        "When w⋅x+b=0 for one of the perceptrons, it means that the input 𝑥 lies exactly on the decision boundary defined by the perceptron's weights and bias. In such a case, the output of the perceptron will always be 0, regardless of the input.\n",
        "\n",
        "However, for the sigmoid neuron, when 𝑤⋅𝑥+𝑏=0 the input to the sigmoid function becomes 0, which results in a sigmoid output of 1/2. This is because\n",
        "𝑒^0=1 and 1/1+1 = 1/2"
      ],
      "metadata": {
        "id": "GDfF9EQrubfB"
      }
    },
    {
      "cell_type": "code",
      "source": [
        "# Example weights, bias, inputs, and scaling factors\n",
        "weights = [1, -1]\n",
        "bias = 0\n",
        "inputs = [1, 1]\n",
        "c_values = [1, 10, 100, 1000, 10000]\n",
        "\n",
        "# Run the test\n",
        "test_neurons(weights, bias, inputs, c_values)"
      ],
      "metadata": {
        "id": "R98L7sPkoAzh",
        "colab": {
          "base_uri": "https://localhost:8080/"
        },
        "outputId": "4f8ec057-75d4-4879-ac04-72735e671b17"
      },
      "execution_count": 18,
      "outputs": [
        {
          "output_type": "stream",
          "name": "stdout",
          "text": [
            "Inputs: [1, 1]\n",
            "Original Perceptron output: 0\n",
            "Original Sigmoid Neuron output: 0.5\n",
            "\n",
            "With scaling factor c = 1:\n",
            "Scaled Perceptron output: 0\n",
            "Scaled Sigmoid Neuron output: 0.5\n",
            "\n",
            "With scaling factor c = 10:\n",
            "Scaled Perceptron output: 0\n",
            "Scaled Sigmoid Neuron output: 0.5\n",
            "\n",
            "With scaling factor c = 100:\n",
            "Scaled Perceptron output: 0\n",
            "Scaled Sigmoid Neuron output: 0.5\n",
            "\n",
            "With scaling factor c = 1000:\n",
            "Scaled Perceptron output: 0\n",
            "Scaled Sigmoid Neuron output: 0.5\n",
            "\n",
            "With scaling factor c = 10000:\n",
            "Scaled Perceptron output: 0\n",
            "Scaled Sigmoid Neuron output: 0.5\n"
          ]
        }
      ]
    },
    {
      "cell_type": "code",
      "source": [],
      "metadata": {
        "id": "Xoa159SJo2sE"
      },
      "execution_count": null,
      "outputs": []
    }
  ]
}